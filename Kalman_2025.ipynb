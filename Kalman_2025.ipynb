{
 "cells": [
  {
   "cell_type": "markdown",
   "metadata": {},
   "source": [
    "# 2025 CVE Time Series Forecasting using Kalman Filter\n",
    "\n",
    "This notebook demonstrates a full workflow for forecasting Common Vulnerabilities and Exposures (CVE) counts for 2025 using the Kalman Filter. The process includes:\n",
    "- Loading and validating CVE data from the National Vulnerability Database (NVD) JSONL export\n",
    "- Aggregating and exploring the dataset\n",
    "- Running diagnostics and visualizations\n",
    "- Fitting a Kalman Filter model and generating forecasts\n",
    "- Comparing predictions to actuals for 2025\n",
    "\n",
    "**Goal:** Provide a reproducible, transparent, and robust time series forecasting pipeline for CVE data, with clear diagnostics and validation steps."
   ]
  },
  {
   "cell_type": "markdown",
   "metadata": {},
   "source": [
    "## Data Source and License\n",
    "- **Data Source:** [NVD Data Feeds](https://nvd.nist.gov/vuln/data-feeds) (JSONL export)\n",
    "- **License:** Data is provided by NIST and is in the public domain. See: https://www.nist.gov/open/license\n",
    "- **Background on the Kalman Filter:** [Wikipedia](https://en.wikipedia.org/wiki/Kalman_filter)\n",
    "- **Python Library Used:** [Darts Time Series Library](https://unit8co.github.io/darts/)"
   ]
  },
  {
   "cell_type": "markdown",
   "metadata": {},
   "source": [
    "## Table of Contents\n",
    "- [Introduction](#2025-cve-time-series-forecasting-using-kalman-filter)\n",
    "- [Data Source and License](#data-source-and-license)\n",
    "- [Configuration](#configuration)\n",
    "- [1. Import Required Libraries](#1-import-required-libraries)\n",
    "- [2. Load and Prepare CVE Data](#2-load-and-prepare-cve-data)\n",
    "- [3. Dataset Overview](#3-dataset-overview)\n",
    "- [4. Monthly Aggregation](#4-monthly-aggregation)\n",
    "- [5. Diagnostics](#5-diagnostics)\n",
    "- [6. Kalman Filter Forecasting](#6-kalman-filter-forecasting)\n",
    "- [7. Post-Processing Forecast Results](#7-post-processing-forecast-results)\n",
    "- [8. Validation Against Actuals](#8-validation-against-actuals)\n",
    "- [9. Conclusion](#9-conclusion)\n",
    "- [References](#references)"
   ]
  },
  {
   "cell_type": "markdown",
   "metadata": {},
   "source": [
    "## Configuration\n",
    "Set key parameters and file paths here for easy adjustment."
   ]
  },
  {
   "cell_type": "code",
   "execution_count": 1,
   "metadata": {
    "execution": {
     "iopub.execute_input": "2025-07-01T00:26:50.830133Z",
     "iopub.status.busy": "2025-07-01T00:26:50.829629Z",
     "iopub.status.idle": "2025-07-01T00:26:50.833274Z",
     "shell.execute_reply": "2025-07-01T00:26:50.832867Z"
    }
   },
   "outputs": [],
   "source": [
    "# Configuration cell for key parameters\n",
    "from datetime import date  # Ensure date is imported before use\n",
    "DATA_FILE = 'nvd.jsonl'\n",
    "START_DATE = '2017-01-01'\n",
    "FORECAST_YEAR = 2025\n",
    "\n",
    "# Derived parameters\n",
    "END_DATE = date.today().strftime('%Y-%m-%d')\n",
    "NEXT_YEAR = str(FORECAST_YEAR + 1) + '-01-01'"
   ]
  },
  {
   "cell_type": "markdown",
   "metadata": {},
   "source": [
    "## 1. Import Required Libraries\n",
    "All necessary libraries for data loading, processing, and forecasting are imported here."
   ]
  },
  {
   "cell_type": "code",
   "execution_count": 2,
   "metadata": {
    "execution": {
     "iopub.execute_input": "2025-07-01T00:26:50.834997Z",
     "iopub.status.busy": "2025-07-01T00:26:50.834820Z",
     "iopub.status.idle": "2025-07-01T00:26:55.605071Z",
     "shell.execute_reply": "2025-07-01T00:26:55.604476Z"
    }
   },
   "outputs": [
    {
     "name": "stderr",
     "output_type": "stream",
     "text": [
      "/opt/hostedtoolcache/Python/3.13.5/x64/lib/python3.13/site-packages/fs/__init__.py:4: UserWarning: pkg_resources is deprecated as an API. See https://setuptools.pypa.io/en/latest/pkg_resources.html. The pkg_resources package is slated for removal as early as 2025-11-30. Refrain from using this package or pin to Setuptools<81.\n",
      "  __import__(\"pkg_resources\").declare_namespace(__name__)  # type: ignore\n"
     ]
    }
   ],
   "source": [
    "import warnings\n",
    "from IPython.display import Markdown\n",
    "from datetime import date\n",
    "import glob\n",
    "import json\n",
    "import matplotlib\n",
    "# Set matplotlib backend for headless environments (CI/CD)\n",
    "matplotlib.use('Agg')\n",
    "import matplotlib.pyplot as plt\n",
    "import numpy as np\n",
    "import pandas as pd\n",
    "from darts import TimeSeries\n",
    "from darts.models import KalmanForecaster\n",
    "\n",
    "np.seterr(all=\"ignore\")\n",
    "warnings.filterwarnings(\"ignore\", category=RuntimeWarning)\n",
    "warnings.filterwarnings(\"ignore\", category=FutureWarning)"
   ]
  },
  {
   "cell_type": "markdown",
   "metadata": {},
   "source": [
    "## 2. Load and Prepare CVE Data\n",
    "This section loads the CVE data from the JSONL file and prepares it for analysis. If the file is missing or invalid, a user-friendly error will be shown."
   ]
  },
  {
   "cell_type": "code",
   "execution_count": 3,
   "metadata": {
    "execution": {
     "iopub.execute_input": "2025-07-01T00:26:55.639147Z",
     "iopub.status.busy": "2025-07-01T00:26:55.638696Z",
     "iopub.status.idle": "2025-07-01T00:27:07.665225Z",
     "shell.execute_reply": "2025-07-01T00:27:07.664590Z"
    }
   },
   "outputs": [
    {
     "name": "stdout",
     "output_type": "stream",
     "text": [
      "Successfully loaded 299922 CVE records\n"
     ]
    }
   ],
   "source": [
    "import os\n",
    "import time\n",
    "import json\n",
    "\n",
    "# Check if data file exists with retry logic (useful for CI environments)\n",
    "max_retries = 3\n",
    "retry_count = 0\n",
    "while retry_count < max_retries:\n",
    "    if os.path.exists(DATA_FILE):\n",
    "        break\n",
    "    print(f\"Data file '{DATA_FILE}' not found. Retry {retry_count + 1}/{max_retries}\")\n",
    "    time.sleep(2)  # Wait 2 seconds before retry\n",
    "    retry_count += 1\n",
    "\n",
    "if not os.path.exists(DATA_FILE):\n",
    "    raise FileNotFoundError(f\"Data file '{DATA_FILE}' not found after {max_retries} retries. Please ensure the file is present in the workspace.\")\n",
    "\n",
    "# Additional data validation with better error messages\n",
    "try:\n",
    "    with open(DATA_FILE, 'r', encoding='utf-8') as f:\n",
    "        nvd_data = json.load(f)\n",
    "    if not isinstance(nvd_data, list):\n",
    "        raise ValueError(f\"Expected data to be a list, got {type(nvd_data)}\")\n",
    "    if len(nvd_data) == 0:\n",
    "        raise ValueError(\"Loaded data is empty\")\n",
    "    print(f\"Successfully loaded {len(nvd_data)} CVE records\")\n",
    "except json.JSONDecodeError as e:\n",
    "    raise RuntimeError(f\"Invalid JSON format in data file: {e}\")\n",
    "except Exception as e:\n",
    "    raise RuntimeError(f\"Error loading or validating data: {e}\")"
   ]
  },
  {
   "cell_type": "code",
   "execution_count": 4,
   "metadata": {
    "execution": {
     "iopub.execute_input": "2025-07-01T00:27:07.667367Z",
     "iopub.status.busy": "2025-07-01T00:27:07.667004Z",
     "iopub.status.idle": "2025-07-01T00:27:42.128789Z",
     "shell.execute_reply": "2025-07-01T00:27:42.128131Z"
    }
   },
   "outputs": [],
   "source": [
    "def get_nested_value(entry, keys, default='Missing_Data'):\n",
    "    try:\n",
    "        for key in keys:\n",
    "            entry = entry[key]\n",
    "        return entry\n",
    "    except (KeyError, IndexError, TypeError):\n",
    "        return default\n",
    "\n",
    "# Process data in batches to reduce memory usage\n",
    "row_accumulator = []\n",
    "batch_size = 1000  # Process in smaller batches for better memory management\n",
    "\n",
    "for filename in glob.glob(DATA_FILE):\n",
    "    with open(filename, 'r', encoding='utf-8') as f:\n",
    "        nvd_data = json.load(f)\n",
    "        total_entries = len(nvd_data)\n",
    "        # print(f\"Processing {total_entries} CVE entries...\")\n",
    "        \n",
    "        for i, entry in enumerate(nvd_data):\n",
    "            # Progress reporting for CI logs\n",
    "            if i % 5000 == 0 and i > 0:\n",
    "                pass  # You can uncomment the next line for progress reporting\n",
    "                # print(f\"Processed {i}/{total_entries} entries ({i/total_entries*100:.1f}%)\")\n",
    "            \n",
    "            new_row = {\n",
    "                'CVE': get_nested_value(entry, ['cve', 'id']),\n",
    "                'Published': get_nested_value(entry, ['cve', 'published']),\n",
    "                'AttackVector': get_nested_value(entry, ['cve', 'metrics', 'cvssMetricV31', 0, 'cvssData', 'attackVector']),\n",
    "                'AttackComplexity': get_nested_value(entry, ['cve', 'metrics', 'cvssMetricV31', 0, 'cvssData', 'attackComplexity']),\n",
    "                'PrivilegesRequired': get_nested_value(entry, ['cve', 'metrics', 'cvssMetricV31', 0, 'cvssData', 'privilegesRequired']),\n",
    "                'UserInteraction': get_nested_value(entry, ['cve', 'metrics', 'cvssMetricV31', 0, 'cvssData', 'userInteraction']),\n",
    "                'Scope': get_nested_value(entry, ['cve', 'metrics', 'cvssMetricV31', 0, 'cvssData', 'scope']),\n",
    "                'ConfidentialityImpact': get_nested_value(entry, ['cve', 'metrics', 'cvssMetricV31', 0, 'cvssData', 'confidentialityImpact']),\n",
    "                'IntegrityImpact': get_nested_value(entry, ['cve', 'metrics', 'cvssMetricV31', 0, 'cvssData', 'integrityImpact']),\n",
    "                'AvailabilityImpact': get_nested_value(entry, ['cve', 'metrics', 'cvssMetricV31', 0, 'cvssData', 'availabilityImpact']),\n",
    "                'BaseScore': get_nested_value(entry, ['cve', 'metrics', 'cvssMetricV31', 0, 'cvssData', 'baseScore'], '0.0'),\n",
    "                'BaseSeverity': get_nested_value(entry, ['cve', 'metrics', 'cvssMetricV31', 0, 'cvssData', 'baseSeverity']),\n",
    "                'ExploitabilityScore': get_nested_value(entry, ['cve', 'metrics', 'cvssMetricV31', 0, 'exploitabilityScore']),\n",
    "                'ImpactScore': get_nested_value(entry, ['cve', 'metrics', 'cvssMetricV31', 0, 'impactScore']),\n",
    "                'CWE': get_nested_value(entry, ['cve', 'weaknesses', 0, 'description', 0, 'value']),\n",
    "                'Description': get_nested_value(entry, ['cve', 'descriptions', 0, 'value'], ''),\n",
    "                'Assigner': get_nested_value(entry, ['cve', 'sourceIdentifier']),\n",
    "                'Tag': get_nested_value(entry, ['cve', 'cveTags', 0, 'tags'], np.nan),\n",
    "                'Status': get_nested_value(entry, ['cve', 'vulnStatus'], '')\n",
    "            }\n",
    "            row_accumulator.append(new_row)\n",
    "\n",
    "#print(\"Creating DataFrame...\")\n",
    "nvd = pd.DataFrame(row_accumulator)\n",
    "#print(f\"Created DataFrame with {len(nvd)} rows\")\n",
    "\n",
    "# Clear row_accumulator to free memory\n",
    "del row_accumulator\n",
    "\n",
    "# Data processing with progress updates\n",
    "#print(\"Filtering rejected CVEs...\")\n",
    "nvd = nvd[~nvd.Status.str.contains('Rejected', na=False)]\n",
    "#print(\"Converting dates...\")\n",
    "nvd['Published'] = pd.to_datetime(nvd['Published'])\n",
    "nvd = nvd.sort_values(by=['Published'])\n",
    "nvd = nvd.reset_index(drop=True)\n",
    "nvd['BaseScore'] = pd.to_numeric(nvd['BaseScore'], errors='coerce')\n",
    "nvd['BaseScore'] = nvd['BaseScore'].replace(0, np.nan)\n",
    "\n",
    "# Calculate statistics\n",
    "nvdcount = nvd['Published'].count()\n",
    "nvdunique = nvd['Published'].nunique()\n",
    "pastdata = ((nvd['Published'] > START_DATE) & (nvd['Published']  < str(FORECAST_YEAR)+'-01-01'))\n",
    "thisyear = ((nvd['Published'] > str(FORECAST_YEAR)+'-01-01') & (nvd['Published']  < NEXT_YEAR))\n",
    "nvd_2024 = nvd.loc[thisyear].copy()  # Use .copy() to avoid warnings\n",
    "nvd = nvd.loc[pastdata].copy()\n",
    "\n",
    "startdate = date.fromisoformat(START_DATE)\n",
    "enddate = date.today()\n",
    "numberofdays = enddate - startdate \n",
    "per_day = nvdcount/numberofdays.days\n"
   ]
  },
  {
   "cell_type": "markdown",
   "metadata": {},
   "source": [
    "## 3. Dataset Overview\n",
    "Display summary statistics for the loaded CVE data, including date range, missing values, and severity distribution."
   ]
  },
  {
   "cell_type": "code",
   "execution_count": 5,
   "metadata": {
    "execution": {
     "iopub.execute_input": "2025-07-01T00:27:42.131045Z",
     "iopub.status.busy": "2025-07-01T00:27:42.130845Z",
     "iopub.status.idle": "2025-07-01T00:27:42.185406Z",
     "shell.execute_reply": "2025-07-01T00:27:42.184921Z"
    }
   },
   "outputs": [
    {
     "data": {
      "text/markdown": [
       "**Total CVEs:** 180793  \n",
       "**Date Range:** 2017-01-01 to 2024-12-31  \n",
       "**Unique Days:** 180791  \n",
       "**Missing BaseScore:** 38013  \n",
       "**Missing Severity:** 0  \n",
       "**Average CVEs Per Day:** 91.66  \n",
       "**Average CVSS Score:** 6.91"
      ],
      "text/plain": [
       "<IPython.core.display.Markdown object>"
      ]
     },
     "metadata": {},
     "output_type": "display_data"
    }
   ],
   "source": [
    "# Expanded dataset overview\n",
    "summary = {\n",
    "    'Total CVEs': nvd['CVE'].count(),\n",
    "    'Date Range': f\"{nvd['Published'].min().date()} to {nvd['Published'].max().date()}\",\n",
    "    'Unique Days': nvd['Published'].nunique(),\n",
    "    'Missing BaseScore': nvd['BaseScore'].isnull().sum(),\n",
    "    'Missing Severity': nvd['BaseSeverity'].isnull().sum(),\n",
    "    'Average CVEs Per Day': per_day.round(2),\n",
    "    'Average CVSS Score': nvd['BaseScore'].mean().round(2)\n",
    "}\n",
    "\n",
    "# Use Markdown with line returns for better formatting\n",
    "from IPython.display import display, Markdown\n",
    "output_lines = [f\"**{k}:** {v}\" for k, v in summary.items()]\n",
    "display(Markdown(\"  \\n\".join(output_lines)))\n"
   ]
  },
  {
   "cell_type": "markdown",
   "metadata": {},
   "source": [
    "## 4. Monthly Aggregation\n",
    "Aggregate the CVE data by month for time series analysis."
   ]
  },
  {
   "cell_type": "code",
   "execution_count": 6,
   "metadata": {
    "execution": {
     "iopub.execute_input": "2025-07-01T00:27:42.187223Z",
     "iopub.status.busy": "2025-07-01T00:27:42.187032Z",
     "iopub.status.idle": "2025-07-01T00:27:42.265848Z",
     "shell.execute_reply": "2025-07-01T00:27:42.265199Z"
    }
   },
   "outputs": [],
   "source": [
    "nvd['Published'] = pd.to_datetime(nvd['Published'])\n",
    "nvd['Published'] = nvd['Published'].dt.to_period('M').dt.to_timestamp()  # Normalize to start of the month\n",
    "monthly = nvd['Published'].groupby(nvd.Published).agg('count')\n",
    "monthly_cves = pd.DataFrame(monthly)\n",
    "monthly_cves.columns = ['Count']\n",
    "monthly_cves = monthly_cves .reset_index()\n",
    "monthly_cves = monthly_cves.rename(columns={\"Published\" : \"Month\" ,\"Count\": \"CVEs\"})\n",
    "monthly_cves['Month'] = monthly_cves['Month'].astype(str)\n",
    "monthly_cves['Month'] = pd.to_datetime(monthly_cves['Month'])"
   ]
  },
  {
   "cell_type": "code",
   "execution_count": 7,
   "metadata": {
    "execution": {
     "iopub.execute_input": "2025-07-01T00:27:42.268264Z",
     "iopub.status.busy": "2025-07-01T00:27:42.267890Z",
     "iopub.status.idle": "2025-07-01T00:27:42.273240Z",
     "shell.execute_reply": "2025-07-01T00:27:42.272659Z"
    }
   },
   "outputs": [],
   "source": [
    "# Clean and validate the monthly_cves data to avoid numerical issues\n",
    "monthly_cves = monthly_cves.replace([np.inf, -np.inf], np.nan)\n",
    "monthly_cves = monthly_cves.dropna(subset=[\"CVEs\"])  # Drop rows where CVEs is NaN\n",
    "monthly_cves = monthly_cves[monthly_cves[\"CVEs\"] > 0]  # Remove zero or negative counts if not meaningful\n",
    "\n",
    "if monthly_cves[\"CVEs\"].isnull().any() or (monthly_cves[\"CVEs\"] == 0).any():\n",
    "    print(\"Warning: monthly_cves still contains NaN or zero values after cleaning.\")\n",
    "\n",
    "monthly_cves = monthly_cves.reset_index(drop=True)\n"
   ]
  },
  {
   "cell_type": "markdown",
   "metadata": {},
   "source": [
    "## 5. Diagnostics\n",
    "Check the length, variance, and distribution of the training data to ensure suitability for forecasting. Visualizations are provided for further insight."
   ]
  },
  {
   "cell_type": "code",
   "execution_count": 8,
   "metadata": {
    "execution": {
     "iopub.execute_input": "2025-07-01T00:27:42.275296Z",
     "iopub.status.busy": "2025-07-01T00:27:42.274951Z",
     "iopub.status.idle": "2025-07-01T00:27:42.430949Z",
     "shell.execute_reply": "2025-07-01T00:27:42.430406Z"
    }
   },
   "outputs": [],
   "source": [
    "# Diagnostics: Check length and variance of training data\n",
    "if len(monthly_cves) < 24:\n",
    "    print(\"Warning: Time series is very short. Consider using a lower dim_x (e.g., 2 or 3) in KalmanForecaster.\")\n",
    "if monthly_cves['CVEs'].var() < 1e-3:\n",
    "    print(\"Warning: Very low variance in time series. KalmanForecaster may be unstable.\")\n",
    "\n",
    "# Visual diagnostics (with error handling for headless environments)\n",
    "try:\n",
    "    plt.figure(figsize=(16,12))\n",
    "    plt.plot(monthly_cves['Month'], monthly_cves['CVEs'], lw=3, color='#1f77b4', marker='o', label='Training Data')\n",
    "    plt.title('Monthly CVE Counts (Training Data)', fontsize=18)\n",
    "    plt.xlabel('Month', fontsize=14)\n",
    "    plt.ylabel('CVEs', fontsize=14)\n",
    "    plt.grid(True, which='both', linestyle='--', alpha=0.6)\n",
    "    plt.legend(fontsize=14)\n",
    "    plt.tight_layout()\n",
    "    plt.show()\n",
    "\n",
    "    # Histogram and boxplot (use matching color)\n",
    "    fig, axes = plt.subplots(1, 2, figsize=(16,5))\n",
    "    monthly_cves['CVEs'].hist(ax=axes[0], bins=12, color='#1f77b4', edgecolor='black')\n",
    "    axes[0].set_title('Histogram of Monthly CVEs', fontsize=14)\n",
    "    axes[0].set_xlabel('CVEs', fontsize=12)\n",
    "    axes[0].set_ylabel('Frequency', fontsize=12)\n",
    "    monthly_cves['CVEs'].plot.box(ax=axes[1], color={'boxes':'#1f77b4','whiskers':'#1f77b4','medians':'#ff7f0e','caps':'#1f77b4'})\n",
    "    axes[1].set_title('Boxplot of Monthly CVEs', fontsize=14)\n",
    "    axes[1].set_ylabel('CVEs', fontsize=12)\n",
    "    plt.tight_layout()\n",
    "    plt.show()\n",
    "except Exception as e:\n",
    "    print(f\"Note: Plots not displayed (likely running in headless environment): {e}\")\n",
    "    # Still provide text-based diagnostics\n",
    "    print(f\"Training data statistics:\")\n",
    "    print(f\"  Length: {len(monthly_cves)}\")\n",
    "    print(f\"  Mean CVEs/month: {monthly_cves['CVEs'].mean():.1f}\")\n",
    "    print(f\"  Std deviation: {monthly_cves['CVEs'].std():.1f}\")\n",
    "    print(f\"  Min: {monthly_cves['CVEs'].min()}\")\n",
    "    print(f\"  Max: {monthly_cves['CVEs'].max()}\")"
   ]
  },
  {
   "cell_type": "markdown",
   "metadata": {},
   "source": [
    "## 6. Kalman Filter Forecasting\n",
    "Fit the Kalman Forecaster model and generate predictions for the next 12 months."
   ]
  },
  {
   "cell_type": "code",
   "execution_count": 9,
   "metadata": {
    "execution": {
     "iopub.execute_input": "2025-07-01T00:27:42.433260Z",
     "iopub.status.busy": "2025-07-01T00:27:42.432850Z",
     "iopub.status.idle": "2025-07-01T00:27:42.557666Z",
     "shell.execute_reply": "2025-07-01T00:27:42.557204Z"
    }
   },
   "outputs": [],
   "source": [
    "train = TimeSeries.from_dataframe(monthly_cves,\"Month\", \"CVEs\")\n",
    "model = KalmanForecaster(dim_x=2)\n",
    "model.fit(train)\n",
    "# Reduced num_samples from 100000 to 1000 for faster CI execution\n",
    "# This still provides good forecast quality while being much faster\n",
    "pred = model.predict(n=12, num_samples=1000)\n",
    "\n",
    "# Plot with error handling for headless environments\n",
    "try:\n",
    "    plt.figure(figsize=(16,12))\n",
    "    train.plot(lw=3)\n",
    "    pred.plot(lw=3, label='forecast')\n",
    "    plt.title('CVE Forecast using Kalman Filter', fontsize=18)\n",
    "    plt.xlabel('Date', fontsize=14)\n",
    "    plt.ylabel('CVEs', fontsize=14)\n",
    "    plt.legend(fontsize=14)\n",
    "    plt.grid(True, alpha=0.6)\n",
    "    plt.tight_layout()\n",
    "    plt.show()\n",
    "except Exception as e:\n",
    "    print(f\"Note: Forecast plot not displayed (likely running in headless environment): {e}\")\n",
    "    print(\"Forecast model trained successfully!\")\n",
    "    print(f\"Prediction range: {pred.start_time()} to {pred.end_time()}\")\n",
    "    print(f\"Number of forecast samples: {len(pred.all_values()[0]) if len(pred.all_values()) > 0 else 'N/A'}\")"
   ]
  },
  {
   "cell_type": "markdown",
   "metadata": {},
   "source": [
    "## 7. Post-Processing Forecast Results\n",
    "Convert the forecast to a DataFrame and summarize monthly predictions."
   ]
  },
  {
   "cell_type": "code",
   "execution_count": 10,
   "metadata": {
    "execution": {
     "iopub.execute_input": "2025-07-01T00:27:42.559776Z",
     "iopub.status.busy": "2025-07-01T00:27:42.559382Z",
     "iopub.status.idle": "2025-07-01T00:27:42.571135Z",
     "shell.execute_reply": "2025-07-01T00:27:42.570559Z"
    }
   },
   "outputs": [
    {
     "name": "stderr",
     "output_type": "stream",
     "text": [
      "You are transforming a stochastic TimeSeries (i.e., contains several samples). The resulting DataFrame is a 2D object with all samples on the columns. If this is not the expected behavior consider calling a function adapted to stochastic TimeSeries like quantile_df().\n"
     ]
    },
    {
     "data": {
      "text/html": [
       "<div>\n",
       "<style scoped>\n",
       "    .dataframe tbody tr th:only-of-type {\n",
       "        vertical-align: middle;\n",
       "    }\n",
       "\n",
       "    .dataframe tbody tr th {\n",
       "        vertical-align: top;\n",
       "    }\n",
       "\n",
       "    .dataframe thead th {\n",
       "        text-align: right;\n",
       "    }\n",
       "</style>\n",
       "<table border=\"1\" class=\"dataframe\">\n",
       "  <thead>\n",
       "    <tr style=\"text-align: right;\">\n",
       "      <th></th>\n",
       "      <th>Month</th>\n",
       "      <th>CVEs Predicted</th>\n",
       "    </tr>\n",
       "  </thead>\n",
       "  <tbody>\n",
       "    <tr>\n",
       "      <th>0</th>\n",
       "      <td>January</td>\n",
       "      <td>3616.0</td>\n",
       "    </tr>\n",
       "    <tr>\n",
       "      <th>1</th>\n",
       "      <td>February</td>\n",
       "      <td>3667.0</td>\n",
       "    </tr>\n",
       "    <tr>\n",
       "      <th>2</th>\n",
       "      <td>March</td>\n",
       "      <td>3696.0</td>\n",
       "    </tr>\n",
       "    <tr>\n",
       "      <th>3</th>\n",
       "      <td>April</td>\n",
       "      <td>3758.0</td>\n",
       "    </tr>\n",
       "    <tr>\n",
       "      <th>4</th>\n",
       "      <td>May</td>\n",
       "      <td>3811.0</td>\n",
       "    </tr>\n",
       "    <tr>\n",
       "      <th>5</th>\n",
       "      <td>June</td>\n",
       "      <td>3886.0</td>\n",
       "    </tr>\n",
       "    <tr>\n",
       "      <th>6</th>\n",
       "      <td>July</td>\n",
       "      <td>3930.0</td>\n",
       "    </tr>\n",
       "    <tr>\n",
       "      <th>7</th>\n",
       "      <td>August</td>\n",
       "      <td>4004.0</td>\n",
       "    </tr>\n",
       "    <tr>\n",
       "      <th>8</th>\n",
       "      <td>September</td>\n",
       "      <td>4078.0</td>\n",
       "    </tr>\n",
       "    <tr>\n",
       "      <th>9</th>\n",
       "      <td>October</td>\n",
       "      <td>4123.0</td>\n",
       "    </tr>\n",
       "    <tr>\n",
       "      <th>10</th>\n",
       "      <td>November</td>\n",
       "      <td>4196.0</td>\n",
       "    </tr>\n",
       "    <tr>\n",
       "      <th>11</th>\n",
       "      <td>December</td>\n",
       "      <td>4267.0</td>\n",
       "    </tr>\n",
       "  </tbody>\n",
       "</table>\n",
       "</div>"
      ],
      "text/plain": [
       "        Month  CVEs Predicted\n",
       "0     January          3616.0\n",
       "1    February          3667.0\n",
       "2       March          3696.0\n",
       "3       April          3758.0\n",
       "4         May          3811.0\n",
       "5        June          3886.0\n",
       "6        July          3930.0\n",
       "7      August          4004.0\n",
       "8   September          4078.0\n",
       "9     October          4123.0\n",
       "10   November          4196.0\n",
       "11   December          4267.0"
      ]
     },
     "execution_count": 10,
     "metadata": {},
     "output_type": "execute_result"
    }
   ],
   "source": [
    "# Extract the forecast data from the TimeSeries object\n",
    "darts_df = pred.to_dataframe()\n",
    "\n",
    "# Process the DataFrame as before\n",
    "darts_monthly = darts_df.mean(axis=1).round(0)\n",
    "darts_monthly = darts_monthly.to_frame()\n",
    "darts_monthly = darts_monthly.reset_index()\n",
    "darts_monthly = darts_monthly.rename(columns={0: \"CVEs Predicted\"})\n",
    "darts_monthly['Month'] = darts_monthly['Month'].dt.month_name()\n",
    "darts_monthly"
   ]
  },
  {
   "cell_type": "code",
   "execution_count": 11,
   "metadata": {
    "execution": {
     "iopub.execute_input": "2025-07-01T00:27:42.573055Z",
     "iopub.status.busy": "2025-07-01T00:27:42.572763Z",
     "iopub.status.idle": "2025-07-01T00:27:42.576825Z",
     "shell.execute_reply": "2025-07-01T00:27:42.576258Z"
    }
   },
   "outputs": [
    {
     "data": {
      "text/plain": [
       "np.float64(47032.0)"
      ]
     },
     "execution_count": 11,
     "metadata": {},
     "output_type": "execute_result"
    }
   ],
   "source": [
    "darts_monthly['CVEs Predicted'].sum()"
   ]
  },
  {
   "cell_type": "markdown",
   "metadata": {},
   "source": [
    "## 8. Validation Against Actuals\n",
    "Compare the forecasted results to actual CVE counts for 2025. Only the final validation table will be displayed below for clarity."
   ]
  },
  {
   "cell_type": "code",
   "execution_count": 12,
   "metadata": {
    "execution": {
     "iopub.execute_input": "2025-07-01T00:27:42.578826Z",
     "iopub.status.busy": "2025-07-01T00:27:42.578452Z",
     "iopub.status.idle": "2025-07-01T00:27:42.586147Z",
     "shell.execute_reply": "2025-07-01T00:27:42.585573Z"
    }
   },
   "outputs": [],
   "source": [
    "# Prepare actuals for 2025\n",
    "monthly_2024 = nvd_2024['Published'].groupby(nvd_2024.Published.dt.to_period(\"M\")).agg('count')\n",
    "monthly_cves_2024 = pd.DataFrame(monthly_2024)\n",
    "monthly_cves_2024.columns = ['Count']\n",
    "monthly_cves_2024 = monthly_cves_2024.reset_index()\n",
    "monthly_cves_2024 = monthly_cves_2024.rename(columns={\"Published\" : \"Month\" ,\"Count\": \"CVEs Actual\"})\n",
    "monthly_cves_2024['Month'] = monthly_cves_2024['Month'].astype(str)\n",
    "monthly_cves_2024['Month'] = pd.to_datetime(monthly_cves_2024['Month'])\n",
    "monthly_cves_2024['Month'] = monthly_cves_2024['Month'].dt.month_name()"
   ]
  },
  {
   "cell_type": "code",
   "execution_count": 13,
   "metadata": {
    "execution": {
     "iopub.execute_input": "2025-07-01T00:27:42.587926Z",
     "iopub.status.busy": "2025-07-01T00:27:42.587712Z",
     "iopub.status.idle": "2025-07-01T00:27:42.609314Z",
     "shell.execute_reply": "2025-07-01T00:27:42.608761Z"
    }
   },
   "outputs": [
    {
     "data": {
      "text/html": [
       "<div>\n",
       "<style scoped>\n",
       "    .dataframe tbody tr th:only-of-type {\n",
       "        vertical-align: middle;\n",
       "    }\n",
       "\n",
       "    .dataframe tbody tr th {\n",
       "        vertical-align: top;\n",
       "    }\n",
       "\n",
       "    .dataframe thead th {\n",
       "        text-align: right;\n",
       "    }\n",
       "</style>\n",
       "<table border=\"1\" class=\"dataframe\">\n",
       "  <thead>\n",
       "    <tr style=\"text-align: right;\">\n",
       "      <th></th>\n",
       "      <th>Month</th>\n",
       "      <th>CVEs Actual</th>\n",
       "      <th>CVEs Predicted</th>\n",
       "      <th>Difference</th>\n",
       "      <th>Precentage</th>\n",
       "    </tr>\n",
       "  </thead>\n",
       "  <tbody>\n",
       "    <tr>\n",
       "      <th>0</th>\n",
       "      <td>January</td>\n",
       "      <td>4277.0</td>\n",
       "      <td>3616.0</td>\n",
       "      <td>661.0</td>\n",
       "      <td>118.0</td>\n",
       "    </tr>\n",
       "    <tr>\n",
       "      <th>1</th>\n",
       "      <td>February</td>\n",
       "      <td>3676.0</td>\n",
       "      <td>3667.0</td>\n",
       "      <td>9.0</td>\n",
       "      <td>100.0</td>\n",
       "    </tr>\n",
       "    <tr>\n",
       "      <th>2</th>\n",
       "      <td>March</td>\n",
       "      <td>4014.0</td>\n",
       "      <td>3696.0</td>\n",
       "      <td>318.0</td>\n",
       "      <td>109.0</td>\n",
       "    </tr>\n",
       "    <tr>\n",
       "      <th>3</th>\n",
       "      <td>April</td>\n",
       "      <td>4033.0</td>\n",
       "      <td>3758.0</td>\n",
       "      <td>275.0</td>\n",
       "      <td>107.0</td>\n",
       "    </tr>\n",
       "    <tr>\n",
       "      <th>4</th>\n",
       "      <td>May</td>\n",
       "      <td>3982.0</td>\n",
       "      <td>3811.0</td>\n",
       "      <td>171.0</td>\n",
       "      <td>104.0</td>\n",
       "    </tr>\n",
       "    <tr>\n",
       "      <th>5</th>\n",
       "      <td>June</td>\n",
       "      <td>3686.0</td>\n",
       "      <td>3886.0</td>\n",
       "      <td>-200.0</td>\n",
       "      <td>95.0</td>\n",
       "    </tr>\n",
       "    <tr>\n",
       "      <th>6</th>\n",
       "      <td>July</td>\n",
       "      <td>0.0</td>\n",
       "      <td>3930.0</td>\n",
       "      <td>0.0</td>\n",
       "      <td>0.0</td>\n",
       "    </tr>\n",
       "    <tr>\n",
       "      <th>7</th>\n",
       "      <td>August</td>\n",
       "      <td>0.0</td>\n",
       "      <td>4004.0</td>\n",
       "      <td>0.0</td>\n",
       "      <td>0.0</td>\n",
       "    </tr>\n",
       "    <tr>\n",
       "      <th>8</th>\n",
       "      <td>September</td>\n",
       "      <td>0.0</td>\n",
       "      <td>4078.0</td>\n",
       "      <td>0.0</td>\n",
       "      <td>0.0</td>\n",
       "    </tr>\n",
       "    <tr>\n",
       "      <th>9</th>\n",
       "      <td>October</td>\n",
       "      <td>0.0</td>\n",
       "      <td>4123.0</td>\n",
       "      <td>0.0</td>\n",
       "      <td>0.0</td>\n",
       "    </tr>\n",
       "    <tr>\n",
       "      <th>10</th>\n",
       "      <td>November</td>\n",
       "      <td>0.0</td>\n",
       "      <td>4196.0</td>\n",
       "      <td>0.0</td>\n",
       "      <td>0.0</td>\n",
       "    </tr>\n",
       "    <tr>\n",
       "      <th>11</th>\n",
       "      <td>December</td>\n",
       "      <td>0.0</td>\n",
       "      <td>4267.0</td>\n",
       "      <td>0.0</td>\n",
       "      <td>0.0</td>\n",
       "    </tr>\n",
       "    <tr>\n",
       "      <th>12</th>\n",
       "      <td>Total</td>\n",
       "      <td>23668.0</td>\n",
       "      <td>47032.0</td>\n",
       "      <td>1234.0</td>\n",
       "      <td>50.0</td>\n",
       "    </tr>\n",
       "  </tbody>\n",
       "</table>\n",
       "</div>"
      ],
      "text/plain": [
       "        Month  CVEs Actual  CVEs Predicted  Difference  Precentage\n",
       "0     January       4277.0          3616.0       661.0       118.0\n",
       "1    February       3676.0          3667.0         9.0       100.0\n",
       "2       March       4014.0          3696.0       318.0       109.0\n",
       "3       April       4033.0          3758.0       275.0       107.0\n",
       "4         May       3982.0          3811.0       171.0       104.0\n",
       "5        June       3686.0          3886.0      -200.0        95.0\n",
       "6        July          0.0          3930.0         0.0         0.0\n",
       "7      August          0.0          4004.0         0.0         0.0\n",
       "8   September          0.0          4078.0         0.0         0.0\n",
       "9     October          0.0          4123.0         0.0         0.0\n",
       "10   November          0.0          4196.0         0.0         0.0\n",
       "11   December          0.0          4267.0         0.0         0.0\n",
       "12      Total      23668.0         47032.0      1234.0        50.0"
      ]
     },
     "execution_count": 13,
     "metadata": {},
     "output_type": "execute_result"
    }
   ],
   "source": [
    "# Merge actuals and predictions, sort, and calculate summary statistics\n",
    "validation_df = pd.merge(\n",
    "    monthly_cves_2024,\n",
    "    darts_monthly,\n",
    "    how=\"outer\",\n",
    "    on='Month',\n",
    ")\n",
    "\n",
    "month_categories = ['January', 'February', 'March', 'April', 'May', 'June', \n",
    "                    'July', 'August', 'September', 'October', 'November', 'December', 'Total']\n",
    "\n",
    "validation_df['Month'] = pd.Categorical(validation_df['Month'], categories = month_categories, ordered = True)\n",
    "validation_df = validation_df.sort_values(by='Month')\n",
    "\n",
    "# Calculate difference and fill missing values\n",
    "validation_df['Difference'] = validation_df['CVEs Actual'] - validation_df['CVEs Predicted']\n",
    "validation_df['CVEs Actual'] = validation_df['CVEs Actual'].fillna(0)\n",
    "validation_df['Difference'] = validation_df['Difference'].fillna(0)\n",
    "\n",
    "# Add total row\n",
    "numeric_df = validation_df.select_dtypes(include=np.number)\n",
    "total_row = numeric_df.sum(numeric_only=True)\n",
    "validation_df = pd.concat([validation_df, pd.DataFrame(total_row.rename('Total')).T], ignore_index=True)\n",
    "validation_df['CVEs Actual'] = validation_df['CVEs Actual'].fillna(0)\n",
    "validation_df['Difference'] = validation_df['Difference'].fillna(0)\n",
    "\n",
    "# Add percentage column\n",
    "\n",
    "def percentage_change(col1, col2):\n",
    "    return ((col2 / col1) * 100).round(0)\n",
    "\n",
    "validation_df['Precentage'] = percentage_change(validation_df['CVEs Predicted'], validation_df['CVEs Actual'])   \n",
    "validation_df['Precentage'] = validation_df['Precentage'].fillna(0)\n",
    "validation_df.at[12,'Month']='Total'\n",
    "\n",
    "# Show only the final validation table\n",
    "validation_df"
   ]
  },
  {
   "cell_type": "markdown",
   "metadata": {},
   "source": [
    "## 9. Conclusion\n",
    "This notebook demonstrates the use of the Kalman Filter for time series forecasting of CVE counts, with validation against actual 2025 data. Adjustments and further analysis can be performed as new data becomes available."
   ]
  }
 ],
 "metadata": {
  "kernelspec": {
   "display_name": "Python 3",
   "language": "python",
   "name": "python3"
  },
  "language_info": {
   "codemirror_mode": {
    "name": "ipython",
    "version": 3
   },
   "file_extension": ".py",
   "mimetype": "text/x-python",
   "name": "python",
   "nbconvert_exporter": "python",
   "pygments_lexer": "ipython3",
   "version": "3.13.5"
  },
  "vscode": {
   "interpreter": {
    "hash": "7e1998ff7f8aa20ada591c520b972326324e5ea05489af9e422744c7c09f6dad"
   }
  }
 },
 "nbformat": 4,
 "nbformat_minor": 2
}
