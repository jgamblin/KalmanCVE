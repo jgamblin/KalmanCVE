{
 "cells": [
  {
   "attachments": {},
   "cell_type": "markdown",
   "metadata": {},
   "source": [
    "# 2025 CVE Time Series Forecasting using Kalman Filter\n",
    "\n",
    "Backgound on the Kalman Filter:\n",
    "https://en.wikipedia.org/wiki/Kalman_filter \n",
    "\n",
    "Python Library Used: \n",
    "https://unit8co.github.io/darts/"
   ]
  },
  {
   "cell_type": "code",
   "execution_count": 1,
   "metadata": {
    "execution": {
     "iopub.execute_input": "2025-06-16T12:10:46.977351Z",
     "iopub.status.busy": "2025-06-16T12:10:46.976896Z",
     "iopub.status.idle": "2025-06-16T12:10:53.283796Z",
     "shell.execute_reply": "2025-06-16T12:10:53.283108Z"
    }
   },
   "outputs": [
    {
     "name": "stderr",
     "output_type": "stream",
     "text": [
      "/opt/hostedtoolcache/Python/3.12.11/x64/lib/python3.12/site-packages/fs/__init__.py:4: UserWarning: pkg_resources is deprecated as an API. See https://setuptools.pypa.io/en/latest/pkg_resources.html. The pkg_resources package is slated for removal as early as 2025-11-30. Refrain from using this package or pin to Setuptools<81.\n",
      "  __import__(\"pkg_resources\").declare_namespace(__name__)  # type: ignore\n"
     ]
    }
   ],
   "source": [
    "from IPython.display import Markdown\n",
    "from datetime import date\n",
    "import glob\n",
    "import json\n",
    "import matplotlib.pyplot as plt\n",
    "import numpy as np\n",
    "import pandas as pd\n",
    "from darts import TimeSeries\n",
    "from darts.models import KalmanForecaster"
   ]
  },
  {
   "cell_type": "code",
   "execution_count": 2,
   "metadata": {
    "execution": {
     "iopub.execute_input": "2025-06-16T12:10:53.320704Z",
     "iopub.status.busy": "2025-06-16T12:10:53.320209Z",
     "iopub.status.idle": "2025-06-16T12:11:19.316835Z",
     "shell.execute_reply": "2025-06-16T12:11:19.316167Z"
    }
   },
   "outputs": [],
   "source": [
    "\n",
    "\n",
    "def get_nested_value(entry, keys, default='Missing_Data'):\n",
    "    try:\n",
    "        for key in keys:\n",
    "            entry = entry[key]\n",
    "        return entry\n",
    "    except (KeyError, IndexError):\n",
    "        return default\n",
    "\n",
    "row_accumulator = []\n",
    "for filename in glob.glob('nvd.jsonl'):\n",
    "    with open(filename, 'r', encoding='utf-8') as f:\n",
    "        nvd_data = json.load(f)\n",
    "        for entry in nvd_data:\n",
    "            new_row = {\n",
    "                'CVE': get_nested_value(entry, ['cve', 'id']),\n",
    "                'Published': get_nested_value(entry, ['cve', 'published']),\n",
    "                'AttackVector': get_nested_value(entry, ['cve', 'metrics', 'cvssMetricV31', 0, 'cvssData', 'attackVector']),\n",
    "                'AttackComplexity': get_nested_value(entry, ['cve', 'metrics', 'cvssMetricV31', 0, 'cvssData', 'attackComplexity']),\n",
    "                'PrivilegesRequired': get_nested_value(entry, ['cve', 'metrics', 'cvssMetricV31', 0, 'cvssData', 'privilegesRequired']),\n",
    "                'UserInteraction': get_nested_value(entry, ['cve', 'metrics', 'cvssMetricV31', 0, 'cvssData', 'userInteraction']),\n",
    "                'Scope': get_nested_value(entry, ['cve', 'metrics', 'cvssMetricV31', 0, 'cvssData', 'scope']),\n",
    "                'ConfidentialityImpact': get_nested_value(entry, ['cve', 'metrics', 'cvssMetricV31', 0, 'cvssData', 'confidentialityImpact']),\n",
    "                'IntegrityImpact': get_nested_value(entry, ['cve', 'metrics', 'cvssMetricV31', 0, 'cvssData', 'integrityImpact']),\n",
    "                'AvailabilityImpact': get_nested_value(entry, ['cve', 'metrics', 'cvssMetricV31', 0, 'cvssData', 'availabilityImpact']),\n",
    "                'BaseScore': get_nested_value(entry, ['cve', 'metrics', 'cvssMetricV31', 0, 'cvssData', 'baseScore'], '0.0'),\n",
    "                'BaseSeverity': get_nested_value(entry, ['cve', 'metrics', 'cvssMetricV31', 0, 'cvssData', 'baseSeverity']),\n",
    "                'ExploitabilityScore': get_nested_value(entry, ['cve', 'metrics', 'cvssMetricV31', 0, 'exploitabilityScore']),\n",
    "                'ImpactScore': get_nested_value(entry, ['cve', 'metrics', 'cvssMetricV31', 0, 'impactScore']),\n",
    "                'CWE': get_nested_value(entry, ['cve', 'weaknesses', 0, 'description', 0, 'value']),\n",
    "                'Description': get_nested_value(entry, ['cve', 'descriptions', 0, 'value'], ''),\n",
    "                'Assigner': get_nested_value(entry, ['cve', 'sourceIdentifier']),\n",
    "                'Tag': get_nested_value(entry, ['cve', 'cveTags', 0, 'tags'], np.nan),\n",
    "                'Status': get_nested_value(entry, ['cve', 'vulnStatus'], '')\n",
    "            }\n",
    "            row_accumulator.append(new_row)\n",
    "\n",
    "nvd = pd.DataFrame(row_accumulator)\n",
    "nvd['Published'] = pd.to_datetime(nvd['Published'])\n",
    "nvd = nvd.sort_values(by=['Published'])\n",
    "nvd = nvd.reset_index(drop=True)\n",
    "nvd['BaseScore'] = pd.to_numeric(nvd['BaseScore']);\n",
    "nvd['BaseScore'] = pd.to_numeric(nvd['BaseScore']);\n",
    "nvd['BaseScore'] = nvd['BaseScore'].replace(0, np.nan);\n",
    "nvdcount = nvd['Published'].count()\n",
    "nvdunique = nvd['Published'].nunique()\n",
    "pastdata = ((nvd['Published'] > '2017-01-01') & (nvd['Published']  < '2025-01-01'))\n",
    "thisyear = ((nvd['Published'] > '2025-01-01') & (nvd['Published']  < '2026-01-01'))\n",
    "nvd_2024 = nvd.loc[thisyear]\n",
    "nvd = nvd.loc[pastdata]\n",
    "startdate = date(2017, 1, 1)\n",
    "enddate  = date.today()\n",
    "numberofdays = enddate - startdate \n",
    "per_day = nvdcount/numberofdays.days"
   ]
  },
  {
   "cell_type": "code",
   "execution_count": 3,
   "metadata": {
    "execution": {
     "iopub.execute_input": "2025-06-16T12:11:19.319340Z",
     "iopub.status.busy": "2025-06-16T12:11:19.318957Z",
     "iopub.status.idle": "2025-06-16T12:11:19.350204Z",
     "shell.execute_reply": "2025-06-16T12:11:19.349592Z"
    }
   },
   "outputs": [
    {
     "data": {
      "text/markdown": [
       "Total Number of CVEs: **194461**<br />Average CVEs Per Day: **96.5**<br />Average CVSS Score: **6.91**"
      ],
      "text/plain": [
       "<IPython.core.display.Markdown object>"
      ]
     },
     "execution_count": 3,
     "metadata": {},
     "output_type": "execute_result"
    }
   ],
   "source": [
    "Markdown(f\"Total Number of CVEs: **{nvd['CVE'].count()}**<br />Average CVEs Per Day: **{per_day.round(2)}**<br />Average CVSS Score: **{nvd['BaseScore'].mean().round(2)}**\")"
   ]
  },
  {
   "cell_type": "code",
   "execution_count": 4,
   "metadata": {
    "execution": {
     "iopub.execute_input": "2025-06-16T12:11:19.352225Z",
     "iopub.status.busy": "2025-06-16T12:11:19.351832Z",
     "iopub.status.idle": "2025-06-16T12:11:19.386971Z",
     "shell.execute_reply": "2025-06-16T12:11:19.386503Z"
    }
   },
   "outputs": [],
   "source": [
    "nvd['Published'] = pd.to_datetime(nvd['Published'])\n",
    "nvd['Published'] = nvd['Published'].dt.to_period('M').dt.to_timestamp()  # Normalize to start of the month\n",
    "monthly = nvd['Published'].groupby(nvd.Published).agg('count')\n",
    "monthly_cves = pd.DataFrame(monthly)\n",
    "monthly_cves.columns = ['Count']\n",
    "monthly_cves = monthly_cves .reset_index()\n",
    "monthly_cves = monthly_cves.rename(columns={\"Published\" : \"Month\" ,\"Count\": \"CVEs\"})\n",
    "monthly_cves['Month'] = monthly_cves['Month'].astype(str)\n",
    "monthly_cves['Month'] = pd.to_datetime(monthly_cves['Month'])"
   ]
  },
  {
   "cell_type": "code",
   "execution_count": 5,
   "metadata": {
    "execution": {
     "iopub.execute_input": "2025-06-16T12:11:19.388916Z",
     "iopub.status.busy": "2025-06-16T12:11:19.388550Z",
     "iopub.status.idle": "2025-06-16T12:11:20.093983Z",
     "shell.execute_reply": "2025-06-16T12:11:20.093395Z"
    }
   },
   "outputs": [
    {
     "data": {
      "text/plain": [
       "<Axes: xlabel='Month'>"
      ]
     },
     "execution_count": 5,
     "metadata": {},
     "output_type": "execute_result"
    },
    {
     "data": {
      "image/png": "[encoded data removed]",
      "text/plain": [
       "<Figure size 1600x1200 with 1 Axes>"
      ]
     },
     "metadata": {},
     "output_type": "display_data"
    }
   ],
   "source": [
    "train = TimeSeries.from_dataframe(monthly_cves,\"Month\", \"CVEs\")\n",
    "model = KalmanForecaster(dim_x=4)\n",
    "model.fit(train)\n",
    "pred = model.predict(n=12, num_samples=100000)\n",
    "\n",
    "plt.figure(figsize=(16,12))\n",
    "train.plot(lw=3)\n",
    "pred.plot(lw=3, label='forecast')"
   ]
  },
  {
   "cell_type": "code",
   "execution_count": 6,
   "metadata": {
    "execution": {
     "iopub.execute_input": "2025-06-16T12:11:20.096041Z",
     "iopub.status.busy": "2025-06-16T12:11:20.095656Z",
     "iopub.status.idle": "2025-06-16T12:11:20.130662Z",
     "shell.execute_reply": "2025-06-16T12:11:20.130089Z"
    }
   },
   "outputs": [
    {
     "data": {
      "text/html": [
       "<div>\n",
       "<style scoped>\n",
       "    .dataframe tbody tr th:only-of-type {\n",
       "        vertical-align: middle;\n",
       "    }\n",
       "\n",
       "    .dataframe tbody tr th {\n",
       "        vertical-align: top;\n",
       "    }\n",
       "\n",
       "    .dataframe thead th {\n",
       "        text-align: right;\n",
       "    }\n",
       "</style>\n",
       "<table border=\"1\" class=\"dataframe\">\n",
       "  <thead>\n",
       "    <tr style=\"text-align: right;\">\n",
       "      <th></th>\n",
       "      <th>Month</th>\n",
       "      <th>CVEs Predicted</th>\n",
       "    </tr>\n",
       "  </thead>\n",
       "  <tbody>\n",
       "    <tr>\n",
       "      <th>0</th>\n",
       "      <td>January</td>\n",
       "      <td>3770.0</td>\n",
       "    </tr>\n",
       "    <tr>\n",
       "      <th>1</th>\n",
       "      <td>February</td>\n",
       "      <td>3689.0</td>\n",
       "    </tr>\n",
       "    <tr>\n",
       "      <th>2</th>\n",
       "      <td>March</td>\n",
       "      <td>3651.0</td>\n",
       "    </tr>\n",
       "    <tr>\n",
       "      <th>3</th>\n",
       "      <td>April</td>\n",
       "      <td>3659.0</td>\n",
       "    </tr>\n",
       "    <tr>\n",
       "      <th>4</th>\n",
       "      <td>May</td>\n",
       "      <td>3754.0</td>\n",
       "    </tr>\n",
       "    <tr>\n",
       "      <th>5</th>\n",
       "      <td>June</td>\n",
       "      <td>3866.0</td>\n",
       "    </tr>\n",
       "    <tr>\n",
       "      <th>6</th>\n",
       "      <td>July</td>\n",
       "      <td>3961.0</td>\n",
       "    </tr>\n",
       "    <tr>\n",
       "      <th>7</th>\n",
       "      <td>August</td>\n",
       "      <td>3997.0</td>\n",
       "    </tr>\n",
       "    <tr>\n",
       "      <th>8</th>\n",
       "      <td>September</td>\n",
       "      <td>4010.0</td>\n",
       "    </tr>\n",
       "    <tr>\n",
       "      <th>9</th>\n",
       "      <td>October</td>\n",
       "      <td>4028.0</td>\n",
       "    </tr>\n",
       "    <tr>\n",
       "      <th>10</th>\n",
       "      <td>November</td>\n",
       "      <td>4075.0</td>\n",
       "    </tr>\n",
       "    <tr>\n",
       "      <th>11</th>\n",
       "      <td>December</td>\n",
       "      <td>4145.0</td>\n",
       "    </tr>\n",
       "  </tbody>\n",
       "</table>\n",
       "</div>"
      ],
      "text/plain": [
       "        Month  CVEs Predicted\n",
       "0     January          3770.0\n",
       "1    February          3689.0\n",
       "2       March          3651.0\n",
       "3       April          3659.0\n",
       "4         May          3754.0\n",
       "5        June          3866.0\n",
       "6        July          3961.0\n",
       "7      August          3997.0\n",
       "8   September          4010.0\n",
       "9     October          4028.0\n",
       "10   November          4075.0\n",
       "11   December          4145.0"
      ]
     },
     "execution_count": 6,
     "metadata": {},
     "output_type": "execute_result"
    }
   ],
   "source": [
    "# Use quantile_df() to handle stochastic TimeSeries if you want a specific quantile\n",
    "darts_df = pred.quantile_df(quantile=0.5)  # Example: Use the median (50th percentile)\n",
    "\n",
    "# Process the DataFrame as before\n",
    "darts_monthly = darts_df.mean(axis=1).round(0)\n",
    "darts_monthly = darts_monthly.to_frame()\n",
    "darts_monthly = darts_monthly.reset_index()\n",
    "darts_monthly = darts_monthly.rename(columns={0: \"CVEs Predicted\"})\n",
    "darts_monthly['Month'] = darts_monthly['Month'].dt.month_name()\n",
    "darts_monthly"
   ]
  },
  {
   "cell_type": "code",
   "execution_count": 7,
   "metadata": {
    "execution": {
     "iopub.execute_input": "2025-06-16T12:11:20.132741Z",
     "iopub.status.busy": "2025-06-16T12:11:20.132339Z",
     "iopub.status.idle": "2025-06-16T12:11:20.137029Z",
     "shell.execute_reply": "2025-06-16T12:11:20.136429Z"
    }
   },
   "outputs": [
    {
     "data": {
      "text/plain": [
       "np.float64(46605.0)"
      ]
     },
     "execution_count": 7,
     "metadata": {},
     "output_type": "execute_result"
    }
   ],
   "source": [
    "darts_monthly['CVEs Predicted'].sum()"
   ]
  },
  {
   "cell_type": "code",
   "execution_count": 8,
   "metadata": {
    "execution": {
     "iopub.execute_input": "2025-06-16T12:11:20.138901Z",
     "iopub.status.busy": "2025-06-16T12:11:20.138709Z",
     "iopub.status.idle": "2025-06-16T12:11:20.149481Z",
     "shell.execute_reply": "2025-06-16T12:11:20.148816Z"
    }
   },
   "outputs": [
    {
     "data": {
      "text/html": [
       "<div>\n",
       "<style scoped>\n",
       "    .dataframe tbody tr th:only-of-type {\n",
       "        vertical-align: middle;\n",
       "    }\n",
       "\n",
       "    .dataframe tbody tr th {\n",
       "        vertical-align: top;\n",
       "    }\n",
       "\n",
       "    .dataframe thead th {\n",
       "        text-align: right;\n",
       "    }\n",
       "</style>\n",
       "<table border=\"1\" class=\"dataframe\">\n",
       "  <thead>\n",
       "    <tr style=\"text-align: right;\">\n",
       "      <th></th>\n",
       "      <th>Month</th>\n",
       "      <th>CVEs Actual</th>\n",
       "    </tr>\n",
       "  </thead>\n",
       "  <tbody>\n",
       "    <tr>\n",
       "      <th>0</th>\n",
       "      <td>January</td>\n",
       "      <td>4415</td>\n",
       "    </tr>\n",
       "    <tr>\n",
       "      <th>1</th>\n",
       "      <td>February</td>\n",
       "      <td>3831</td>\n",
       "    </tr>\n",
       "    <tr>\n",
       "      <th>2</th>\n",
       "      <td>March</td>\n",
       "      <td>4166</td>\n",
       "    </tr>\n",
       "    <tr>\n",
       "      <th>3</th>\n",
       "      <td>April</td>\n",
       "      <td>4142</td>\n",
       "    </tr>\n",
       "    <tr>\n",
       "      <th>4</th>\n",
       "      <td>May</td>\n",
       "      <td>4264</td>\n",
       "    </tr>\n",
       "    <tr>\n",
       "      <th>5</th>\n",
       "      <td>June</td>\n",
       "      <td>1884</td>\n",
       "    </tr>\n",
       "  </tbody>\n",
       "</table>\n",
       "</div>"
      ],
      "text/plain": [
       "      Month  CVEs Actual\n",
       "0   January         4415\n",
       "1  February         3831\n",
       "2     March         4166\n",
       "3     April         4142\n",
       "4       May         4264\n",
       "5      June         1884"
      ]
     },
     "execution_count": 8,
     "metadata": {},
     "output_type": "execute_result"
    }
   ],
   "source": [
    "monthly_2024 = nvd_2024['Published'].groupby(nvd_2024.Published.dt.to_period(\"M\")).agg('count')\n",
    "monthly_cves_2024 = pd.DataFrame(monthly_2024)\n",
    "monthly_cves_2024.columns = ['Count']\n",
    "monthly_cves_2024 = monthly_cves_2024.reset_index()\n",
    "monthly_cves_2024 = monthly_cves_2024.rename(columns={\"Published\" : \"Month\" ,\"Count\": \"CVEs Actual\"})\n",
    "monthly_cves_2024['Month'] = monthly_cves_2024['Month'].astype(str)\n",
    "monthly_cves_2024['Month'] = pd.to_datetime(monthly_cves_2024['Month'])\n",
    "monthly_cves_2024['Month'] = monthly_cves_2024['Month'].dt.month_name()\n",
    "monthly_cves_2024"
   ]
  },
  {
   "cell_type": "code",
   "execution_count": 9,
   "metadata": {
    "execution": {
     "iopub.execute_input": "2025-06-16T12:11:20.151359Z",
     "iopub.status.busy": "2025-06-16T12:11:20.151174Z",
     "iopub.status.idle": "2025-06-16T12:11:20.162520Z",
     "shell.execute_reply": "2025-06-16T12:11:20.161905Z"
    }
   },
   "outputs": [
    {
     "data": {
      "text/html": [
       "<div>\n",
       "<style scoped>\n",
       "    .dataframe tbody tr th:only-of-type {\n",
       "        vertical-align: middle;\n",
       "    }\n",
       "\n",
       "    .dataframe tbody tr th {\n",
       "        vertical-align: top;\n",
       "    }\n",
       "\n",
       "    .dataframe thead th {\n",
       "        text-align: right;\n",
       "    }\n",
       "</style>\n",
       "<table border=\"1\" class=\"dataframe\">\n",
       "  <thead>\n",
       "    <tr style=\"text-align: right;\">\n",
       "      <th></th>\n",
       "      <th>Month</th>\n",
       "      <th>CVEs Actual</th>\n",
       "      <th>CVEs Predicted</th>\n",
       "    </tr>\n",
       "  </thead>\n",
       "  <tbody>\n",
       "    <tr>\n",
       "      <th>4</th>\n",
       "      <td>January</td>\n",
       "      <td>4415.0</td>\n",
       "      <td>3770.0</td>\n",
       "    </tr>\n",
       "    <tr>\n",
       "      <th>3</th>\n",
       "      <td>February</td>\n",
       "      <td>3831.0</td>\n",
       "      <td>3689.0</td>\n",
       "    </tr>\n",
       "    <tr>\n",
       "      <th>7</th>\n",
       "      <td>March</td>\n",
       "      <td>4166.0</td>\n",
       "      <td>3651.0</td>\n",
       "    </tr>\n",
       "    <tr>\n",
       "      <th>0</th>\n",
       "      <td>April</td>\n",
       "      <td>4142.0</td>\n",
       "      <td>3659.0</td>\n",
       "    </tr>\n",
       "    <tr>\n",
       "      <th>8</th>\n",
       "      <td>May</td>\n",
       "      <td>4264.0</td>\n",
       "      <td>3754.0</td>\n",
       "    </tr>\n",
       "    <tr>\n",
       "      <th>6</th>\n",
       "      <td>June</td>\n",
       "      <td>1884.0</td>\n",
       "      <td>3866.0</td>\n",
       "    </tr>\n",
       "    <tr>\n",
       "      <th>5</th>\n",
       "      <td>July</td>\n",
       "      <td>NaN</td>\n",
       "      <td>3961.0</td>\n",
       "    </tr>\n",
       "    <tr>\n",
       "      <th>1</th>\n",
       "      <td>August</td>\n",
       "      <td>NaN</td>\n",
       "      <td>3997.0</td>\n",
       "    </tr>\n",
       "    <tr>\n",
       "      <th>11</th>\n",
       "      <td>September</td>\n",
       "      <td>NaN</td>\n",
       "      <td>4010.0</td>\n",
       "    </tr>\n",
       "    <tr>\n",
       "      <th>10</th>\n",
       "      <td>October</td>\n",
       "      <td>NaN</td>\n",
       "      <td>4028.0</td>\n",
       "    </tr>\n",
       "    <tr>\n",
       "      <th>9</th>\n",
       "      <td>November</td>\n",
       "      <td>NaN</td>\n",
       "      <td>4075.0</td>\n",
       "    </tr>\n",
       "    <tr>\n",
       "      <th>2</th>\n",
       "      <td>December</td>\n",
       "      <td>NaN</td>\n",
       "      <td>4145.0</td>\n",
       "    </tr>\n",
       "  </tbody>\n",
       "</table>\n",
       "</div>"
      ],
      "text/plain": [
       "        Month  CVEs Actual  CVEs Predicted\n",
       "4     January       4415.0          3770.0\n",
       "3    February       3831.0          3689.0\n",
       "7       March       4166.0          3651.0\n",
       "0       April       4142.0          3659.0\n",
       "8         May       4264.0          3754.0\n",
       "6        June       1884.0          3866.0\n",
       "5        July          NaN          3961.0\n",
       "1      August          NaN          3997.0\n",
       "11  September          NaN          4010.0\n",
       "10    October          NaN          4028.0\n",
       "9    November          NaN          4075.0\n",
       "2    December          NaN          4145.0"
      ]
     },
     "execution_count": 9,
     "metadata": {},
     "output_type": "execute_result"
    }
   ],
   "source": [
    "validation_df = pd.merge(\n",
    "    monthly_cves_2024,\n",
    "    darts_monthly,\n",
    "    how=\"outer\",\n",
    "    on='Month',\n",
    ")\n",
    "\n",
    "month_categories = ['January', 'February', 'March', 'April', 'May', 'June', \n",
    "                    'July', 'August', 'September', 'October', 'November', 'December', 'Total']\n",
    "\n",
    "validation_df['Month'] = pd.Categorical(validation_df['Month'], categories = month_categories, ordered = True)\n",
    "validation_df = validation_df.sort_values(by='Month')\n",
    "\n",
    "\n",
    "validation_df"
   ]
  },
  {
   "cell_type": "code",
   "execution_count": 10,
   "metadata": {
    "execution": {
     "iopub.execute_input": "2025-06-16T12:11:20.164432Z",
     "iopub.status.busy": "2025-06-16T12:11:20.164244Z",
     "iopub.status.idle": "2025-06-16T12:11:20.171854Z",
     "shell.execute_reply": "2025-06-16T12:11:20.171259Z"
    }
   },
   "outputs": [],
   "source": [
    "# Fix SettingWithCopyWarning by using .loc\n",
    "validation_df['Difference'] = validation_df['CVEs Actual'] - validation_df['CVEs Predicted']\n",
    "\n",
    "# Replace inplace=True with assignment to avoid FutureWarning\n",
    "validation_df['CVEs Actual'] = validation_df['CVEs Actual'].fillna(0)\n",
    "validation_df['Difference'] = validation_df['Difference'].fillna(0)\n",
    "\n",
    "validation_df['Difference'] = validation_df['CVEs Actual'] -  validation_df['CVEs Predicted'] \n",
    "\n",
    "numeric_df = validation_df.select_dtypes(include=np.number)\n",
    "total_row = numeric_df.sum(numeric_only=True)\n",
    "\n",
    "validation_df = pd.concat([validation_df, pd.DataFrame(total_row.rename('Total')).T], ignore_index=True)\n",
    "validation_df['CVEs Actual'] = validation_df['CVEs Actual'].fillna(0)\n",
    "validation_df['Difference'] = validation_df['Difference'].fillna(0)"
   ]
  },
  {
   "cell_type": "code",
   "execution_count": 11,
   "metadata": {
    "execution": {
     "iopub.execute_input": "2025-06-16T12:11:20.173717Z",
     "iopub.status.busy": "2025-06-16T12:11:20.173536Z",
     "iopub.status.idle": "2025-06-16T12:11:20.177714Z",
     "shell.execute_reply": "2025-06-16T12:11:20.177120Z"
    }
   },
   "outputs": [],
   "source": [
    "\n",
    "def percentage_change(col1,col2):\n",
    "    return ((col2 / col1) * 100).round(0)\n",
    "\n",
    "validation_df['Precentage'] = percentage_change(validation_df['CVEs Predicted'],validation_df['CVEs Actual'])   \n",
    "\n",
    "validation_df['Precentage'] = validation_df['Precentage'].fillna(0)\n",
    "validation_df.at[12,'Month']='Total'\n",
    "\n"
   ]
  },
  {
   "cell_type": "code",
   "execution_count": 12,
   "metadata": {
    "execution": {
     "iopub.execute_input": "2025-06-16T12:11:20.179690Z",
     "iopub.status.busy": "2025-06-16T12:11:20.179505Z",
     "iopub.status.idle": "2025-06-16T12:11:20.188488Z",
     "shell.execute_reply": "2025-06-16T12:11:20.187926Z"
    }
   },
   "outputs": [
    {
     "data": {
      "text/html": [
       "<div>\n",
       "<style scoped>\n",
       "    .dataframe tbody tr th:only-of-type {\n",
       "        vertical-align: middle;\n",
       "    }\n",
       "\n",
       "    .dataframe tbody tr th {\n",
       "        vertical-align: top;\n",
       "    }\n",
       "\n",
       "    .dataframe thead th {\n",
       "        text-align: right;\n",
       "    }\n",
       "</style>\n",
       "<table border=\"1\" class=\"dataframe\">\n",
       "  <thead>\n",
       "    <tr style=\"text-align: right;\">\n",
       "      <th></th>\n",
       "      <th>Month</th>\n",
       "      <th>CVEs Predicted</th>\n",
       "    </tr>\n",
       "  </thead>\n",
       "  <tbody>\n",
       "    <tr>\n",
       "      <th>0</th>\n",
       "      <td>January</td>\n",
       "      <td>3770.0</td>\n",
       "    </tr>\n",
       "    <tr>\n",
       "      <th>1</th>\n",
       "      <td>February</td>\n",
       "      <td>3689.0</td>\n",
       "    </tr>\n",
       "    <tr>\n",
       "      <th>2</th>\n",
       "      <td>March</td>\n",
       "      <td>3651.0</td>\n",
       "    </tr>\n",
       "    <tr>\n",
       "      <th>3</th>\n",
       "      <td>April</td>\n",
       "      <td>3659.0</td>\n",
       "    </tr>\n",
       "    <tr>\n",
       "      <th>4</th>\n",
       "      <td>May</td>\n",
       "      <td>3754.0</td>\n",
       "    </tr>\n",
       "    <tr>\n",
       "      <th>5</th>\n",
       "      <td>June</td>\n",
       "      <td>3866.0</td>\n",
       "    </tr>\n",
       "    <tr>\n",
       "      <th>6</th>\n",
       "      <td>July</td>\n",
       "      <td>3961.0</td>\n",
       "    </tr>\n",
       "    <tr>\n",
       "      <th>7</th>\n",
       "      <td>August</td>\n",
       "      <td>3997.0</td>\n",
       "    </tr>\n",
       "    <tr>\n",
       "      <th>8</th>\n",
       "      <td>September</td>\n",
       "      <td>4010.0</td>\n",
       "    </tr>\n",
       "    <tr>\n",
       "      <th>9</th>\n",
       "      <td>October</td>\n",
       "      <td>4028.0</td>\n",
       "    </tr>\n",
       "    <tr>\n",
       "      <th>10</th>\n",
       "      <td>November</td>\n",
       "      <td>4075.0</td>\n",
       "    </tr>\n",
       "    <tr>\n",
       "      <th>11</th>\n",
       "      <td>December</td>\n",
       "      <td>4145.0</td>\n",
       "    </tr>\n",
       "    <tr>\n",
       "      <th>12</th>\n",
       "      <td>Total</td>\n",
       "      <td>46605.0</td>\n",
       "    </tr>\n",
       "  </tbody>\n",
       "</table>\n",
       "</div>"
      ],
      "text/plain": [
       "        Month  CVEs Predicted\n",
       "0     January          3770.0\n",
       "1    February          3689.0\n",
       "2       March          3651.0\n",
       "3       April          3659.0\n",
       "4         May          3754.0\n",
       "5        June          3866.0\n",
       "6        July          3961.0\n",
       "7      August          3997.0\n",
       "8   September          4010.0\n",
       "9     October          4028.0\n",
       "10   November          4075.0\n",
       "11   December          4145.0\n",
       "12      Total         46605.0"
      ]
     },
     "execution_count": 12,
     "metadata": {},
     "output_type": "execute_result"
    }
   ],
   "source": [
    "darts_total = darts_monthly.copy()\n",
    "\n",
    "darts_total.fillna(0) \n",
    "numeric_df = darts_total.select_dtypes(include=np.number)\n",
    "total_row = numeric_df.sum(numeric_only=True)\n",
    "darts_total = pd.concat([darts_total, pd.DataFrame(total_row.rename('Total')).T], ignore_index=True)\n",
    "\n",
    "darts_total.at[12,'Month']='Total'\n",
    "darts_total"
   ]
  },
  {
   "cell_type": "code",
   "execution_count": 13,
   "metadata": {
    "execution": {
     "iopub.execute_input": "2025-06-16T12:11:20.190562Z",
     "iopub.status.busy": "2025-06-16T12:11:20.190166Z",
     "iopub.status.idle": "2025-06-16T12:11:20.201840Z",
     "shell.execute_reply": "2025-06-16T12:11:20.201362Z"
    }
   },
   "outputs": [
    {
     "data": {
      "text/html": [
       "<div>\n",
       "<style scoped>\n",
       "    .dataframe tbody tr th:only-of-type {\n",
       "        vertical-align: middle;\n",
       "    }\n",
       "\n",
       "    .dataframe tbody tr th {\n",
       "        vertical-align: top;\n",
       "    }\n",
       "\n",
       "    .dataframe thead th {\n",
       "        text-align: right;\n",
       "    }\n",
       "</style>\n",
       "<table border=\"1\" class=\"dataframe\">\n",
       "  <thead>\n",
       "    <tr style=\"text-align: right;\">\n",
       "      <th></th>\n",
       "      <th>Month</th>\n",
       "      <th>CVEs Actual</th>\n",
       "      <th>CVEs Predicted</th>\n",
       "      <th>Difference</th>\n",
       "      <th>Precentage</th>\n",
       "    </tr>\n",
       "  </thead>\n",
       "  <tbody>\n",
       "    <tr>\n",
       "      <th>0</th>\n",
       "      <td>January</td>\n",
       "      <td>4415.0</td>\n",
       "      <td>3770.0</td>\n",
       "      <td>645.0</td>\n",
       "      <td>117.0</td>\n",
       "    </tr>\n",
       "    <tr>\n",
       "      <th>1</th>\n",
       "      <td>February</td>\n",
       "      <td>3831.0</td>\n",
       "      <td>3689.0</td>\n",
       "      <td>142.0</td>\n",
       "      <td>104.0</td>\n",
       "    </tr>\n",
       "    <tr>\n",
       "      <th>2</th>\n",
       "      <td>March</td>\n",
       "      <td>4166.0</td>\n",
       "      <td>3651.0</td>\n",
       "      <td>515.0</td>\n",
       "      <td>114.0</td>\n",
       "    </tr>\n",
       "    <tr>\n",
       "      <th>3</th>\n",
       "      <td>April</td>\n",
       "      <td>4142.0</td>\n",
       "      <td>3659.0</td>\n",
       "      <td>483.0</td>\n",
       "      <td>113.0</td>\n",
       "    </tr>\n",
       "    <tr>\n",
       "      <th>4</th>\n",
       "      <td>May</td>\n",
       "      <td>4264.0</td>\n",
       "      <td>3754.0</td>\n",
       "      <td>510.0</td>\n",
       "      <td>114.0</td>\n",
       "    </tr>\n",
       "    <tr>\n",
       "      <th>5</th>\n",
       "      <td>June</td>\n",
       "      <td>1884.0</td>\n",
       "      <td>3866.0</td>\n",
       "      <td>-1982.0</td>\n",
       "      <td>49.0</td>\n",
       "    </tr>\n",
       "    <tr>\n",
       "      <th>6</th>\n",
       "      <td>July</td>\n",
       "      <td>0.0</td>\n",
       "      <td>3961.0</td>\n",
       "      <td>-3961.0</td>\n",
       "      <td>0.0</td>\n",
       "    </tr>\n",
       "    <tr>\n",
       "      <th>7</th>\n",
       "      <td>August</td>\n",
       "      <td>0.0</td>\n",
       "      <td>3997.0</td>\n",
       "      <td>-3997.0</td>\n",
       "      <td>0.0</td>\n",
       "    </tr>\n",
       "    <tr>\n",
       "      <th>8</th>\n",
       "      <td>September</td>\n",
       "      <td>0.0</td>\n",
       "      <td>4010.0</td>\n",
       "      <td>-4010.0</td>\n",
       "      <td>0.0</td>\n",
       "    </tr>\n",
       "    <tr>\n",
       "      <th>9</th>\n",
       "      <td>October</td>\n",
       "      <td>0.0</td>\n",
       "      <td>4028.0</td>\n",
       "      <td>-4028.0</td>\n",
       "      <td>0.0</td>\n",
       "    </tr>\n",
       "    <tr>\n",
       "      <th>10</th>\n",
       "      <td>November</td>\n",
       "      <td>0.0</td>\n",
       "      <td>4075.0</td>\n",
       "      <td>-4075.0</td>\n",
       "      <td>0.0</td>\n",
       "    </tr>\n",
       "    <tr>\n",
       "      <th>11</th>\n",
       "      <td>December</td>\n",
       "      <td>0.0</td>\n",
       "      <td>4145.0</td>\n",
       "      <td>-4145.0</td>\n",
       "      <td>0.0</td>\n",
       "    </tr>\n",
       "    <tr>\n",
       "      <th>12</th>\n",
       "      <td>Total</td>\n",
       "      <td>22702.0</td>\n",
       "      <td>46605.0</td>\n",
       "      <td>-23903.0</td>\n",
       "      <td>49.0</td>\n",
       "    </tr>\n",
       "  </tbody>\n",
       "</table>\n",
       "</div>"
      ],
      "text/plain": [
       "        Month  CVEs Actual  CVEs Predicted  Difference  Precentage\n",
       "0     January       4415.0          3770.0       645.0       117.0\n",
       "1    February       3831.0          3689.0       142.0       104.0\n",
       "2       March       4166.0          3651.0       515.0       114.0\n",
       "3       April       4142.0          3659.0       483.0       113.0\n",
       "4         May       4264.0          3754.0       510.0       114.0\n",
       "5        June       1884.0          3866.0     -1982.0        49.0\n",
       "6        July          0.0          3961.0     -3961.0         0.0\n",
       "7      August          0.0          3997.0     -3997.0         0.0\n",
       "8   September          0.0          4010.0     -4010.0         0.0\n",
       "9     October          0.0          4028.0     -4028.0         0.0\n",
       "10   November          0.0          4075.0     -4075.0         0.0\n",
       "11   December          0.0          4145.0     -4145.0         0.0\n",
       "12      Total      22702.0         46605.0    -23903.0        49.0"
      ]
     },
     "execution_count": 13,
     "metadata": {},
     "output_type": "execute_result"
    }
   ],
   "source": [
    "validation_df['CVEs Actual'] = validation_df['CVEs Actual'].fillna(0)\n",
    "validation_df['Difference'] = validation_df['Difference'].fillna(0)\n",
    "validation_df['Precentage'] = validation_df['Precentage'].fillna(0)\n",
    "validation_df"
   ]
  }
 ],
 "metadata": {
  "kernelspec": {
   "display_name": "Python 3",
   "language": "python",
   "name": "python3"
  },
  "language_info": {
   "codemirror_mode": {
    "name": "ipython",
    "version": 3
   },
   "file_extension": ".py",
   "mimetype": "text/x-python",
   "name": "python",
   "nbconvert_exporter": "python",
   "pygments_lexer": "ipython3",
   "version": "3.12.11"
  },
  "vscode": {
   "interpreter": {
    "hash": "7e1998ff7f8aa20ada591c520b972326324e5ea05489af9e422744c7c09f6dad"
   }
  }
 },
 "nbformat": 4,
 "nbformat_minor": 2
}
